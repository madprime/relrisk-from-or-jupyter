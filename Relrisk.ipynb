{
 "cells": [
  {
   "cell_type": "markdown",
   "metadata": {},
   "source": [
    "# From list-of-ORs to rough risk prediction\n",
    "\n",
    "This notebook explores how to convert allelic odds ratios, reported by many publications, to genotypic relative risk, with the goal of combining relative risks for an estimate of relative risk for combined genotypes.\n",
    "\n",
    "This is specifically inspired by data from the paper [Schumacher et al. 2018](https://www.nature.com/articles/s41588-018-0142-8), but is likely to be applicable to using data from similar research reports.\n",
    "\n",
    "## 0. Big assumption: Multiplicative model\n",
    "\n",
    "Schumacher et al. 2018 uses a multiplicative model to combine odds ratios for multiple alleles different locations. This is also called \"log additive\", as an operation that sums the log of numbers is equivalent to one that multiplies them. (See the appendix section \"Proportion of familial risk explained.\")\n",
    "\n",
    "This means, for a position with potential alleles A and B, the relative risks associated with A and B (`rel_A` and `rel_B`) can be multiplied together to calculate combined risk:\n",
    "\n",
    "* relative risk for genotype AA: `rel_AA = rel_A * rel_A`\n",
    "* relative risk for genotype AB = `rel_AB = rel_A * rel_B`\n",
    "* relative risk for genotype BB = `rel_BB = rel_B * rel_B`\n",
    "\n",
    "In addition, this can be done across positions, e.g.\n",
    "\n",
    "* relative risk for \"AA at position 1, AA at position 2\" = `rel_1_AA * rel_2_AA`\n",
    "\n",
    "**The multiplicative model is a major assumption.** The reality is that biology is entangled: for example, the product of one gene might be used by another. This model is an approximation that assumes the effects of different gene variants are independent of each other – but it's likely that this isn't always true.\n",
    "\n",
    "## 1. Starting from the end: relative risks\n",
    "\n",
    "Let's start with a couple hypothetical variables:\n",
    "\n",
    "* `risk_D` = overall frequency of \"disease d\"\n",
    "* `freq_A` = frequency of \"allele A\"\n",
    "* `rel_A` = relative risk of \"disease d\" associated with \"allele A\" (relative to average risk, **risk_D**)\n",
    "\n",
    "I'm going to play with these – you can change them and run code again to see how it affects other things."
   ]
  },
  {
   "cell_type": "code",
   "execution_count": 1,
   "metadata": {},
   "outputs": [],
   "source": [
    "risk_D = 0.1  # between 0 and 1\n",
    "freq_A = 0.3  # between 0 and 1\n",
    "rel_A = 1.2   # larger than 0 (1 = equal to average risk, 2 = 2x average risk, etc.)"
   ]
  },
  {
   "cell_type": "markdown",
   "metadata": {},
   "source": [
    "### 1.1 Relative risks for allele A and B\n",
    "\n",
    "Although the **odds ratio** is typically easier to derive from observational data, it's not a very intuitive metric for describing risk.\n",
    "\n",
    "**Relative risk** has a more clear definition – how the risk of a condition within context A compares to context B. For example, for two potential alleles a position, \"A\" and \"B\"...\n",
    "\n",
    "* `risk_A` = risk of disease for \"allele A\"\n",
    "* `risk_B` = risk of disease for \"allele B\"\n",
    "* `risk_D` = risk of disease for the general population\n",
    "\n",
    "Then `rel_A = risk_A / risk_G` is a relative risk – the risk given condition A, relative to average risk. And `rel_B = risk_B / risk_G` is a relative risk for B.\n",
    "\n",
    "Because all alleles for this position are either \"A\" or \"B\", we expect these to balance. A frequency-weighted sum of `rel_A` and `rel_B` should equal 1.0 – that is, equal to the average risk for the general population.\n",
    "\n",
    "`freq_A * rel_A + freq_B * rel_B = 1.0`\n",
    "\n",
    "That means, given `freq_A` and `rel_A`, we can determine `freq_B` and `rel_B`:"
   ]
  },
  {
   "cell_type": "code",
   "execution_count": 2,
   "metadata": {},
   "outputs": [
    {
     "name": "stdout",
     "output_type": "stream",
     "text": [
      "{\n",
      "  \"freq_A\": 0.3,\n",
      "  \"freq_B\": 0.7,\n",
      "  \"rel_A\": 1.2,\n",
      "  \"rel_B\": 0.9142857142857144\n",
      "}\n"
     ]
    }
   ],
   "source": [
    "freq_B = 1 - freq_A                  # allele frequency for B\n",
    "rel_B = (1 - (freq_A * rel_A)) / freq_B    # relative risk of D for B\n",
    "\n",
    "import json\n",
    "print(json.dumps({\n",
    "    'freq_A': freq_A,\n",
    "    'rel_A': rel_A,\n",
    "    'freq_B': freq_B,\n",
    "    'rel_B': rel_B},\n",
    "    sort_keys=True, indent=2))"
   ]
  },
  {
   "cell_type": "markdown",
   "metadata": {},
   "source": [
    "## 1.2 Relative risks for genotypes\n",
    "\n",
    "Actually, people each have two alleles!\n",
    "\n",
    "Let's check our work. Using allele frequencies, we can calculate the frequency of each genotype. And using the multiplicative model, we can calculate the relative risk associated with each genotype.\n",
    "\n",
    "We expect the weighted sum to be 1. Is it?"
   ]
  },
  {
   "cell_type": "code",
   "execution_count": 3,
   "metadata": {},
   "outputs": [
    {
     "name": "stdout",
     "output_type": "stream",
     "text": [
      "{\n",
      "  \"freq_AA\": 0.09,\n",
      "  \"freq_AB\": 0.42,\n",
      "  \"freq_BB\": 0.48999999999999994,\n",
      "  \"rel_AA\": 1.44,\n",
      "  \"rel_AB\": 1.0971428571428572,\n",
      "  \"rel_BB\": 0.8359183673469389\n",
      "}\n",
      "\n",
      "weighted sum: 1.0\n"
     ]
    }
   ],
   "source": [
    "# Hardy–Weinberg!\n",
    "freq_AA = freq_A * freq_A\n",
    "freq_AB = 2 * freq_A * freq_B\n",
    "freq_BB = freq_B * freq_B\n",
    "\n",
    "rel_AA = rel_A * rel_A\n",
    "rel_AB = rel_A * rel_B\n",
    "rel_BB = rel_B * rel_B\n",
    "\n",
    "print(json.dumps({\n",
    "    'freq_AA': freq_AA,\n",
    "    'freq_AB': freq_AB,\n",
    "    'freq_BB': freq_BB,\n",
    "    'rel_AA': rel_AA,\n",
    "    'rel_AB': rel_AB,\n",
    "    'rel_BB': rel_BB,\n",
    "    }, sort_keys=True, indent=2))\n",
    "\n",
    "weighted_sum = freq_A**2 * rel_A**2 + 2 * freq_A * freq_B * rel_A * rel_B + freq_B**2 * rel_B**2\n",
    "\n",
    "print('\\n' + 'weighted sum: {}'.format(weighted_sum))"
   ]
  },
  {
   "cell_type": "markdown",
   "metadata": {},
   "source": [
    "# 2. Calculating an odds ratio\n",
    "\n",
    "For the following four statistics:\n",
    "\n",
    "* `A_wD` = number of times allele A is found with disease\n",
    "* `A_woD` = number of times allele A is found without disease\n",
    "* `B_wD` = number of times allele B is found with disease\n",
    "* `B_woD` = number of times allele B is found without disease\n",
    "\n",
    "Then the odds ratio of A vs. B for disease D is:\n",
    "\n",
    "`OR = (A_wD / A_woD) / (B_wD / B_woD)`\n",
    "\n",
    "Publications often report odds ratios because the metric can be determined from observations of diseased and disease-free populations – and doesn't require determining the overall frequency of disease (`risk_D`) in the population. (That number can be tricky to determine!)\n",
    "\n",
    "But if we _did_ know `risk_D` – and the allele frequencies and relative risks associated with each allele – we could predict what odds ratios we would expect to see."
   ]
  },
  {
   "cell_type": "code",
   "execution_count": 4,
   "metadata": {},
   "outputs": [
    {
     "data": {
      "text/plain": [
       "1.3551136363636362"
      ]
     },
     "execution_count": 4,
     "metadata": {},
     "output_type": "execute_result"
    }
   ],
   "source": [
    "def calc_OR(D, fA, rA):\n",
    "\n",
    "    # Calculate B allele values.\n",
    "    fB = 1 - fA\n",
    "    rB = (1 - (fA * rA)) / fB\n",
    "\n",
    "    # Calculate for each genotype.\n",
    "    AA_wD = (fA**2) * (D * rA**2)         # % of population that is AA and has D\n",
    "    AA_woD = (fA**2) * (1 - D * rA**2)    # % of population that is AA and doesn't have D\n",
    "    AB_wD = (2 * fA * fB) * (D * rA * rB)\n",
    "    AB_woD = (2 * fA * fB) * (1 - D * rA * rB)\n",
    "    BB_wD = (fB**2) * (D * rB**2)\n",
    "    BB_woD = (fB**2) * (1 - D * rB**2)\n",
    "    \n",
    "    # Use genotype numbers to calculate for each allele.\n",
    "    A_wD = 2 * AA_wD + AB_wD     # fraction of A alleles in someone with D. Count 2x alleles in homozygous folks!\n",
    "    A_woD = 2 * AA_woD + AB_woD\n",
    "    B_wD = 2 * BB_wD + AB_wD\n",
    "    B_woD = 2 * BB_woD + AB_woD\n",
    "\n",
    "    # Raise an error if unnatural numbers exist: the combined input can't exist.\n",
    "    for var in [AA_wD, AA_woD, AB_wD, AB_woD, BB_wD, BB_woD]:\n",
    "        if var <= 0.0 or var >= 1.0:\n",
    "            raise ValueError\n",
    "    for var in [A_wD, A_woD, B_wD, B_woD]:\n",
    "        if var <= 0.0 or var >= 2.0:\n",
    "            raise ValueError\n",
    "    \n",
    "    OR = (A_wD / A_woD) / (B_wD / B_woD)    \n",
    "    return(OR)\n",
    "\n",
    "calc_OR(risk_D, freq_A, rel_A)"
   ]
  },
  {
   "cell_type": "markdown",
   "metadata": {},
   "source": [
    "# 3. Calculating \"relative risks\" for a given \"odds ratio\"\n",
    "\n",
    "As demonstrated above, given the following:\n",
    "\n",
    "1. an estimate of disease frequency (`risk_D`)\n",
    "2. frequency of an allele (`freq_A`)\n",
    "3. an odds ratio associated with it (`rel_A`)\n",
    "\n",
    "It's possible to calculate the odds ratio associated with A.\n",
    "\n",
    "But we _have_ the odds ratio already. Let's presume that is what we have:\n",
    "\n",
    "1. an odds ratio for A (`OR`)\n",
    "2. an estimate of disease frequency (`risk_D`)\n",
    "3. frequency of an allele (`freq_A`)\n",
    "\n",
    "…and what we _want_ is `rel_A`.\n",
    "\n",
    "If we were great at rearranging variables, we could figure out the equation to solve this exactly. I'm not. In the interest of solving problems, I'll make a hack...\n",
    "\n",
    "## 3.1 Build a look-up dict\n",
    "\n",
    "I'll use the equation I already have, run it for all potential inputs, and build a look-up dict, `rel_A_calc`.\n",
    "\n",
    "`rel_A_calc[risk_D][freq_A][OR] = rel_A`"
   ]
  },
  {
   "cell_type": "code",
   "execution_count": 5,
   "metadata": {},
   "outputs": [],
   "source": [
    "rel_A_calc = dict()\n",
    "or_diff = dict()\n",
    "\n",
    "# Range from 0.01 to 0.99 allele frequency\n",
    "for i in range(1,100):\n",
    "\n",
    "    # Range from 1.001 to 1.999 relative risk\n",
    "    for j in range(1,2000):\n",
    "\n",
    "        # Range from 0.01 to 0.99 disease risk\n",
    "        for k in range(1,100):\n",
    "            freq_A = i * 1.0 / 100\n",
    "            rel_A = 1 + j * 1.0 / 1000\n",
    "            risk_D = k * 1.0 / 100\n",
    "\n",
    "            # Sometimes the combination is impossible.\n",
    "            try: \n",
    "                oddsrat = calc_OR(risk_D, freq_A, rel_A)\n",
    "            except ValueError:\n",
    "                continue\n",
    "\n",
    "            # Store OR to the closest one rounded by hundreth\n",
    "            or_rounded = round(oddsrat, 2)\n",
    "            if or_rounded == 1.00:\n",
    "                continue\n",
    "            or_difference = abs(or_rounded - oddsrat)\n",
    "\n",
    "            if risk_D not in rel_A_calc:\n",
    "                rel_A_calc[risk_D] = dict()\n",
    "                or_diff[risk_D] = dict()\n",
    "            if freq_A not in rel_A_calc[risk_D]:\n",
    "                rel_A_calc[risk_D][freq_A] = dict()\n",
    "                or_diff[risk_D][freq_A] = dict()\n",
    "\n",
    "            if (or_rounded not in rel_A_calc[risk_D][freq_A] or\n",
    "                    or_difference < or_diff[risk_D][freq_A][or_rounded]):\n",
    "                rel_A_calc[risk_D][freq_A][or_rounded] = rel_A\n",
    "                or_diff[risk_D][freq_A][or_rounded] = or_difference"
   ]
  },
  {
   "cell_type": "markdown",
   "metadata": {},
   "source": [
    "## 3.2 Save to file\n",
    "\n",
    "Let's store this in a file. (This file is a bit large. Maybe someone would like to optimize this.)"
   ]
  },
  {
   "cell_type": "code",
   "execution_count": 6,
   "metadata": {},
   "outputs": [],
   "source": [
    "import gzip\n",
    "with gzip.open('relrisk_dict.json.gz', 'wt') as f:\n",
    "    json.dump(rel_A_calc, f, sort_keys=True)"
   ]
  },
  {
   "cell_type": "markdown",
   "metadata": {},
   "source": [
    "## 3.3 Example lookup\n",
    "\n",
    "Here's an example of looking up a \"relative risk\" estimate for allele A, given (1) estimate of disease prevalence `risk_D`, (2) allele frequency for A `freq_A`, and (3) odds ratio for allele A `or_a`."
   ]
  },
  {
   "cell_type": "code",
   "execution_count": 7,
   "metadata": {},
   "outputs": [
    {
     "name": "stdout",
     "output_type": "stream",
     "text": [
      "{\n",
      "  \"rel_A\": 1.05,\n",
      "  \"rel_B\": 0.9833333333333334\n",
      "}\n"
     ]
    }
   ],
   "source": [
    "risk_D = 0.3\n",
    "freq_A = 0.25\n",
    "or_a = 1.1\n",
    "\n",
    "freq_B = 1 - freq_A\n",
    "\n",
    "rel_A = rel_A_calc[risk_D][freq_A][or_a]\n",
    "rel_B = (1 - (freq_A * rel_A)) / freq_B\n",
    "\n",
    "print(json.dumps({'rel_A': rel_A, 'rel_B': rel_B}, sort_keys=True, indent=2))"
   ]
  },
  {
   "cell_type": "markdown",
   "metadata": {},
   "source": [
    "# 4 Combining genotypes and locations\n",
    "\n",
    "Combining relative risks to get a total risk estimate is fairly simple with the multiplicative model, and follows these two rules:\n",
    "\n",
    "1. For each genotype, relative risk of each allele (as determined above) are multiplied together\n",
    "2. Across locations, relative risk of the genotype at each location are multiplied together\n",
    "\n",
    "When this procedure is done to estimate relative risks in a random set of people, the risk estimates should average out to 1. If not, we should wonder if something went wrong!"
   ]
  }
 ],
 "metadata": {
  "kernelspec": {
   "display_name": "Python 3",
   "language": "python",
   "name": "python3"
  },
  "language_info": {
   "codemirror_mode": {
    "name": "ipython",
    "version": 3
   },
   "file_extension": ".py",
   "mimetype": "text/x-python",
   "name": "python",
   "nbconvert_exporter": "python",
   "pygments_lexer": "ipython3",
   "version": "3.5.2"
  }
 },
 "nbformat": 4,
 "nbformat_minor": 2
}
